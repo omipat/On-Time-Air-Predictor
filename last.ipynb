{
 "cells": [
  {
   "cell_type": "code",
   "execution_count": 54,
   "id": "cf7fb0ee",
   "metadata": {},
   "outputs": [],
   "source": [
    "import numpy as np\n",
    "import pandas as pd\n",
    "import math\n",
    "from sklearn.metrics import roc_curve\n",
    "from sklearn.metrics import recall_score\n",
    "from sklearn.metrics import precision_score\n",
    "from sklearn.metrics import confusion_matrix\n",
    "from sklearn.metrics import roc_auc_score\n",
    "from sklearn.ensemble import RandomForestClassifier\n",
    "from sklearn.model_selection import train_test_split\n",
    "from datetime import datetime\n",
    "import matplotlib.pyplot as plt\n",
    "import seaborn as sns"
   ]
  },
  {
   "cell_type": "code",
   "execution_count": 55,
   "id": "0bcdbafa",
   "metadata": {},
   "outputs": [
    {
     "name": "stdout",
     "output_type": "stream",
     "text": [
      "       YEAR  QUARTER  MONTH  DAY_OF_MONTH  DAY_OF_WEEK UNIQUE_CARRIER  \\\n",
      "0      2019        1      1             1            5             DL   \n",
      "1      2019        1      1             1            5             DL   \n",
      "2      2019        1      1             1            5             DL   \n",
      "3      2019        1      1             1            5             DL   \n",
      "4      2019        1      1             1            5             DL   \n",
      "...     ...      ...    ...           ...          ...            ...   \n",
      "11226  2019        4     12            30            5             DL   \n",
      "11227  2019        4     12            30            5             DL   \n",
      "11228  2019        4     12            30            5             DL   \n",
      "11229  2019        4     12            30            5             DL   \n",
      "11230  2019        4     12            30            5             DL   \n",
      "\n",
      "      TAIL_NUM  FL_NUM  ORIGIN_AIRPORT_ID ORIGIN  ...  DEP_DEL15 CRS_ARR_TIME  \\\n",
      "0       N836DN    1399              10397    ATL  ...        0.0         2143   \n",
      "1       N964DN    1476              11433    DTW  ...        0.0         1435   \n",
      "2       N813DN    1597              10397    ATL  ...        0.0         1215   \n",
      "3       N587NW    1768              14747    SEA  ...        0.0         1335   \n",
      "4       N836DN    1823              14747    SEA  ...        0.0          607   \n",
      "...        ...     ...                ...    ...  ...        ...          ...   \n",
      "11226   N940DL    1715              11433    DTW  ...        0.0         1223   \n",
      "11227   N836DN    1770              14747    SEA  ...        1.0         2046   \n",
      "11228   N583NW    1823              11433    DTW  ...        0.0         2210   \n",
      "11229   N554NW    1901              10397    ATL  ...        0.0         1806   \n",
      "11230   N843DN    2005              10397    ATL  ...        0.0          925   \n",
      "\n",
      "       ARR_TIME  ARR_DELAY  ARR_DEL15  CANCELLED  DIVERTED  CRS_ELAPSED_TIME  \\\n",
      "0        2102.0      -41.0        0.0          0         0               338   \n",
      "1        1439.0        4.0        0.0          0         0               110   \n",
      "2        1142.0      -33.0        0.0          0         0               335   \n",
      "3        1345.0       10.0        0.0          0         0               196   \n",
      "4         615.0        8.0        0.0          0         0               247   \n",
      "...         ...        ...        ...        ...       ...               ...   \n",
      "11226    1148.0      -35.0        0.0          0         0               138   \n",
      "11227    2100.0       14.0        0.0          0         0               201   \n",
      "11228    2154.0      -16.0        0.0          0         0               311   \n",
      "11229    1801.0       -5.0        0.0          0         0               336   \n",
      "11230     913.0      -12.0        0.0          0         0               120   \n",
      "\n",
      "       ACTUAL_ELAPSED_TIME  DISTANCE  \n",
      "0                    295.0      2182  \n",
      "1                    115.0       528  \n",
      "2                    300.0      2182  \n",
      "3                    205.0      1399  \n",
      "4                    259.0      1927  \n",
      "...                    ...       ...  \n",
      "11226                105.0       594  \n",
      "11227                181.0      1399  \n",
      "11228                295.0      1927  \n",
      "11229                332.0      2182  \n",
      "11230                110.0       594  \n",
      "\n",
      "[11231 rows x 25 columns]\n"
     ]
    }
   ],
   "source": [
    "# Understanding the data\n",
    "df = pd.read_csv('FlightData.csv')\n",
    "df.head()\n",
    "df.shape\n",
    "print(df)"
   ]
  },
  {
   "cell_type": "code",
   "execution_count": 56,
   "id": "dbff743a",
   "metadata": {},
   "outputs": [
    {
     "data": {
      "text/plain": [
       "YEAR                     0\n",
       "QUARTER                  0\n",
       "MONTH                    0\n",
       "DAY_OF_MONTH             0\n",
       "DAY_OF_WEEK              0\n",
       "UNIQUE_CARRIER           0\n",
       "TAIL_NUM                 0\n",
       "FL_NUM                   0\n",
       "ORIGIN_AIRPORT_ID        0\n",
       "ORIGIN                   0\n",
       "DEST_AIRPORT_ID          0\n",
       "DEST                     0\n",
       "CRS_DEP_TIME             0\n",
       "DEP_TIME               107\n",
       "DEP_DELAY              107\n",
       "DEP_DEL15              107\n",
       "CRS_ARR_TIME             0\n",
       "ARR_TIME               115\n",
       "ARR_DELAY              188\n",
       "ARR_DEL15              188\n",
       "CANCELLED                0\n",
       "DIVERTED                 0\n",
       "CRS_ELAPSED_TIME         0\n",
       "ACTUAL_ELAPSED_TIME    188\n",
       "DISTANCE                 0\n",
       "dtype: int64"
      ]
     },
     "execution_count": 56,
     "metadata": {},
     "output_type": "execute_result"
    }
   ],
   "source": [
    "df.isnull().values.any()\n",
    "\n",
    "df.isnull().sum()"
   ]
  },
  {
   "cell_type": "code",
   "execution_count": 57,
   "id": "5e027aa2",
   "metadata": {},
   "outputs": [
    {
     "name": "stdout",
     "output_type": "stream",
     "text": [
      "MONTH             0\n",
      "DAY_OF_MONTH      0\n",
      "DAY_OF_WEEK       0\n",
      "ORIGIN            0\n",
      "DEST              0\n",
      "CRS_DEP_TIME      0\n",
      "ARR_DEL15       188\n",
      "dtype: int64\n",
      "     MONTH  DAY_OF_MONTH  DAY_OF_WEEK ORIGIN DEST  CRS_DEP_TIME  ARR_DEL15\n",
      "177      1             9            6    MSP  SEA           701        NaN\n",
      "179      1            10            7    MSP  DTW          1348        NaN\n",
      "184      1            10            7    MSP  DTW           625        NaN\n",
      "210      1            10            7    DTW  MSP          1200        NaN\n",
      "478      1            22            5    SEA  JFK          2305        NaN\n"
     ]
    }
   ],
   "source": [
    "# Selecting columns\n",
    "columns_to_select = [\"MONTH\", \"DAY_OF_MONTH\", \"DAY_OF_WEEK\", \"ORIGIN\", \"DEST\", \"CRS_DEP_TIME\", \"ARR_DEL15\"]\n",
    "df = df[columns_to_select]\n",
    "\n",
    "# Checking for missing values and printing the sum\n",
    "missing_values = df.isnull().sum()\n",
    "print(missing_values)\n",
    "\n",
    "# Displaying rows with missing values\n",
    "rows_with_missing_values = df[df.isnull().any(axis=1)].head()\n",
    "print(rows_with_missing_values)\n"
   ]
  },
  {
   "cell_type": "code",
   "execution_count": 58,
   "id": "abccf974",
   "metadata": {},
   "outputs": [
    {
     "name": "stdout",
     "output_type": "stream",
     "text": [
      "     MONTH  DAY_OF_MONTH  DAY_OF_WEEK ORIGIN DEST  CRS_DEP_TIME  ARR_DEL15\n",
      "177      1             9            6    MSP  SEA           701        1.0\n",
      "178      1             9            6    DTW  JFK          1527        0.0\n",
      "179      1            10            7    MSP  DTW          1348        1.0\n",
      "180      1            10            7    DTW  MSP          1540        0.0\n",
      "181      1            10            7    JFK  ATL          1325        0.0\n",
      "182      1            10            7    JFK  ATL           610        0.0\n",
      "183      1            10            7    JFK  SEA          1615        0.0\n",
      "184      1            10            7    MSP  DTW           625        1.0\n",
      "   MONTH  DAY_OF_MONTH  DAY_OF_WEEK ORIGIN DEST  CRS_DEP_TIME  ARR_DEL15\n",
      "0      1             1            5    ATL  SEA          1905        0.0\n",
      "1      1             1            5    DTW  MSP          1345        0.0\n",
      "2      1             1            5    ATL  SEA           940        0.0\n",
      "3      1             1            5    SEA  MSP           819        0.0\n",
      "4      1             1            5    SEA  DTW          2300        0.0\n"
     ]
    }
   ],
   "source": [
    "# Filling null values in 'ARR_DEL15' column with 1\n",
    "df['ARR_DEL15'].fillna(1, inplace=True)\n",
    "\n",
    "# Display specific rows to check the changes\n",
    "print(df.iloc[177:185])\n",
    "\n",
    "# Display the first few rows of the DataFrame\n",
    "print(df.head())\n"
   ]
  },
  {
   "cell_type": "code",
   "execution_count": 59,
   "id": "5dc9301c",
   "metadata": {},
   "outputs": [
    {
     "name": "stdout",
     "output_type": "stream",
     "text": [
      "   MONTH  DAY_OF_MONTH  DAY_OF_WEEK ORIGIN DEST  CRS_DEP_TIME  ARR_DEL15\n",
      "0      1             1            5    ATL  SEA            19        0.0\n",
      "1      1             1            5    DTW  MSP            13        0.0\n",
      "2      1             1            5    ATL  SEA             9        0.0\n",
      "3      1             1            5    SEA  MSP             8        0.0\n",
      "4      1             1            5    SEA  DTW            23        0.0\n"
     ]
    }
   ],
   "source": [
    "# Apply math.floor to round down 'CRS_DEP_TIME' values to the nearest hour\n",
    "df['CRS_DEP_TIME'] = df['CRS_DEP_TIME'].apply(lambda x: math.floor(x / 100))\n",
    "\n",
    "# Display the first few rows of the DataFrame to check the changes\n",
    "print(df.head())\n"
   ]
  },
  {
   "cell_type": "code",
   "execution_count": 60,
   "id": "0df381b4",
   "metadata": {},
   "outputs": [
    {
     "name": "stdout",
     "output_type": "stream",
     "text": [
      "   MONTH  DAY_OF_MONTH  DAY_OF_WEEK  CRS_DEP_TIME  ARR_DEL15  ORIGIN_ATL  \\\n",
      "0      1             1            5            19        0.0        True   \n",
      "1      1             1            5            13        0.0       False   \n",
      "2      1             1            5             9        0.0        True   \n",
      "3      1             1            5             8        0.0       False   \n",
      "4      1             1            5            23        0.0       False   \n",
      "\n",
      "   ORIGIN_DTW  ORIGIN_JFK  ORIGIN_MSP  ORIGIN_SEA  DEST_ATL  DEST_DTW  \\\n",
      "0       False       False       False       False     False     False   \n",
      "1        True       False       False       False     False     False   \n",
      "2       False       False       False       False     False     False   \n",
      "3       False       False       False        True     False     False   \n",
      "4       False       False       False        True     False      True   \n",
      "\n",
      "   DEST_JFK  DEST_MSP  DEST_SEA  \n",
      "0     False     False      True  \n",
      "1     False      True     False  \n",
      "2     False     False      True  \n",
      "3     False      True     False  \n",
      "4     False     False     False  \n"
     ]
    }
   ],
   "source": [
    "# Create dummy variables for the categorical columns 'ORIGIN' and 'DEST'\n",
    "df = pd.get_dummies(df, columns=['ORIGIN', 'DEST'])\n",
    "\n",
    "# Display the first few rows of the DataFrame to check the changes\n",
    "print(df.head())\n"
   ]
  },
  {
   "cell_type": "code",
   "execution_count": 61,
   "id": "017281d1",
   "metadata": {},
   "outputs": [
    {
     "name": "stdout",
     "output_type": "stream",
     "text": [
      "Training set shape (features): (8984, 14)\n",
      "Testing set shape (features): (2247, 14)\n"
     ]
    }
   ],
   "source": [
    "# Features are all columns except 'ARR_DEL15'\n",
    "features = df.drop('ARR_DEL15', axis=1)\n",
    "\n",
    "# Labels are the 'ARR_DEL15' column\n",
    "labels = df['ARR_DEL15']\n",
    "\n",
    "# Data splitting into train and test sets\n",
    "train_x, test_x, train_y, test_y = train_test_split(features, labels, test_size=0.2, random_state=42)\n",
    "\n",
    "# Display the shape of the training and testing sets\n",
    "print(\"Training set shape (features):\", train_x.shape)\n",
    "print(\"Testing set shape (features):\", test_x.shape)\n",
    "\n"
   ]
  },
  {
   "cell_type": "code",
   "execution_count": 62,
   "id": "5a8556d0",
   "metadata": {},
   "outputs": [],
   "source": [
    "# Creating a Random Forest Classifier with a specified random state and fitting it to the training data\n",
    "model = RandomForestClassifier(random_state=13).fit(train_x, train_y)\n"
   ]
  },
  {
   "cell_type": "code",
   "execution_count": 63,
   "id": "8b238694",
   "metadata": {},
   "outputs": [
    {
     "name": "stdout",
     "output_type": "stream",
     "text": [
      "Accuracy: 0.8651535380507344\n"
     ]
    }
   ],
   "source": [
    "from sklearn.metrics import accuracy_score\n",
    "\n",
    "# Make predictions on the test set\n",
    "predicted = model.predict(test_x)\n",
    "\n",
    "# Calculate and print the accuracy score using accuracy_score\n",
    "accuracy = accuracy_score(test_y, predicted)\n",
    "print(\"Accuracy:\", accuracy)\n"
   ]
  },
  {
   "cell_type": "code",
   "execution_count": 64,
   "id": "6c0f11e7",
   "metadata": {},
   "outputs": [
    {
     "name": "stdout",
     "output_type": "stream",
     "text": [
      "ROC AUC Score: 0.5587431240200899\n"
     ]
    }
   ],
   "source": [
    "# Make predictions on the test set\n",
    "predicted_labels = model.predict(test_x)\n",
    "\n",
    "# Calculate and print the ROC AUC score using recall_score and precision_score\n",
    "roc_auc = roc_auc_score(test_y, predicted_labels)\n",
    "print(\"ROC AUC Score:\", roc_auc)\n"
   ]
  },
  {
   "cell_type": "code",
   "execution_count": 65,
   "id": "ea76eb8d",
   "metadata": {},
   "outputs": [
    {
     "name": "stdout",
     "output_type": "stream",
     "text": [
      "Confusion Matrix\n",
      "[[1902   34]\n",
      " [ 269   42]]\n",
      "Precision Value: 1.0\n",
      "Recall value: 0.9992012779552716\n"
     ]
    },
    {
     "data": {
      "image/png": "[encoded data removed]",
      "text/plain": [
       "<Figure size 640x480 with 1 Axes>"
      ]
     },
     "metadata": {},
     "output_type": "display_data"
    }
   ],
   "source": [
    "# Building confusion matrix based on the false and true positive values\n",
    "confusion_matrix(test_y, predicted)\n",
    "print('Confusion Matrix')\n",
    "print(confusion_matrix(test_y, predicted))\n",
    "\n",
    "# Making predictions on the training set\n",
    "train_predictions = model.predict(train_x)\n",
    "\n",
    "# Calculating and printing precision and recall values on the training set\n",
    "print('Precision Value:', precision_score(train_y, train_predictions))\n",
    "print('Recall value:', recall_score(train_y, train_predictions))\n",
    "\n",
    "# Plotting the ROC curve\n",
    "sns.set()\n",
    "\n",
    "# Compute the false positive rate (fpr) and true positive rate (tpr)\n",
    "fpr, tpr, _ = roc_curve(test_y, probabilities[:, 1])\n",
    "\n",
    "# Plot the ROC curve\n",
    "plt.plot(fpr, tpr, color='blue')\n",
    "plt.plot([0, 1], [0, 1], color='green', lw=1, linestyle='--')\n",
    "plt.xlabel('False Positive Rate')\n",
    "plt.ylabel('True Positive Rate')\n",
    "plt.show()\n"
   ]
  },
  {
   "cell_type": "code",
   "execution_count": 66,
   "id": "035a7492",
   "metadata": {},
   "outputs": [
    {
     "name": "stdout",
     "output_type": "stream",
     "text": [
      "0.6\n"
     ]
    }
   ],
   "source": [
    "def predict_delay(departure_date_time, origin, destination):\n",
    "    try:\n",
    "        # Parsing the input departure date and time\n",
    "        departure_date_time_parsed = datetime.strptime(departure_date_time, '%d/%m/%Y %H:%M:%S')\n",
    "    except ValueError as e:\n",
    "        return 'Error parsing date/time - {}'.format(e)\n",
    "\n",
    "    # Extracting relevant information from the parsed date and time\n",
    "    month = departure_date_time_parsed.month\n",
    "    day = departure_date_time_parsed.day\n",
    "    day_of_week = departure_date_time_parsed.isoweekday()\n",
    "    hour = departure_date_time_parsed.hour\n",
    "\n",
    "    # Converting origin and destination to uppercase\n",
    "    origin = origin.upper()\n",
    "    destination = destination.upper()\n",
    "\n",
    "    # Creating input data for the model prediction\n",
    "    input_data = [{'MONTH': month,\n",
    "                   'DAY_OF_MONTH': day,\n",
    "                   'DAY_OF_WEEK': day_of_week,\n",
    "                   'CRS_DEP_TIME': hour,\n",
    "                   'ORIGIN_ATL': 1 if origin == 'ATL' else 0,\n",
    "                   'ORIGIN_DTW': 1 if origin == 'DTW' else 0,\n",
    "                   'ORIGIN_JFK': 1 if origin == 'JFK' else 0,\n",
    "                   'ORIGIN_MSP': 1 if origin == 'MSP' else 0,\n",
    "                   'ORIGIN_SEA': 1 if origin == 'SEA' else 0,\n",
    "                   'DEST_ATL': 1 if destination == 'ATL' else 0,\n",
    "                   'DEST_DTW': 1 if destination == 'DTW' else 0,\n",
    "                   'DEST_JFK': 1 if destination == 'JFK' else 0,\n",
    "                   'DEST_MSP': 1 if destination == 'MSP' else 0,\n",
    "                   'DEST_SEA': 1 if destination == 'SEA' else 0 }]\n",
    "\n",
    "    # Predicting the delay probability using the model\n",
    "    return model.predict_proba(pd.DataFrame(input_data))[0][0]\n",
    "\n",
    "# Example usage of the predict_delay function\n",
    "print(predict_delay('16/11/2020 13:30:00', 'MSP', 'JFK'))\n"
   ]
  },
  {
   "cell_type": "code",
   "execution_count": 67,
   "id": "6660917f",
   "metadata": {},
   "outputs": [
    {
     "data": {
      "image/png": "[encoded data removed]",
      "text/plain": [
       "<Figure size 640x480 with 1 Axes>"
      ]
     },
     "metadata": {},
     "output_type": "display_data"
    }
   ],
   "source": [
    "import numpy as np\n",
    "import matplotlib.pyplot as plt\n",
    "\n",
    "# Labels for each day\n",
    "labels = ('Nov 16', 'Nov 17', 'Nov 18', 'Nov 19', 'Nov 20', 'Nov 21', 'Nov 22')\n",
    "\n",
    "# Values representing the probability of on-time arrival for each day\n",
    "values = (\n",
    "    predict_delay('16/11/2020 13:30:00', 'MSP', 'JFK'),\n",
    "    predict_delay('17/11/2020 13:30:00', 'MSP', 'JFK'),\n",
    "    predict_delay('18/11/2020 13:30:00', 'MSP', 'JFK'),\n",
    "    predict_delay('19/11/2020 13:30:00', 'MSP', 'JFK'),\n",
    "    predict_delay('20/11/2020 13:30:00', 'MSP', 'JFK'),\n",
    "    predict_delay('21/11/2020 13:30:00', 'MSP', 'JFK'),\n",
    "    predict_delay('22/11/2020 13:30:00', 'MSP', 'JFK')\n",
    ")\n",
    "\n",
    "# Array of indices for the labels\n",
    "alabels = np.arange(len(labels))\n",
    "\n",
    "# Plotting the histogram\n",
    "plt.bar(alabels, values, align='center', alpha=0.5, color='green')\n",
    "plt.xticks(alabels, labels)\n",
    "plt.ylabel('Probability of On-Time Arrival')\n",
    "plt.ylim((0.0, 1.0))\n",
    "plt.title('Probability of On-Time Arrival for MSP to JFK')\n",
    "plt.show()\n"
   ]
  }
 ],
 "metadata": {
  "kernelspec": {
   "display_name": "Python 3 (ipykernel)",
   "language": "python",
   "name": "python3"
  },
  "language_info": {
   "codemirror_mode": {
    "name": "ipython",
    "version": 3
   },
   "file_extension": ".py",
   "mimetype": "text/x-python",
   "name": "python",
   "nbconvert_exporter": "python",
   "pygments_lexer": "ipython3",
   "version": "3.11.5"
  }
 },
 "nbformat": 4,
 "nbformat_minor": 5
}
